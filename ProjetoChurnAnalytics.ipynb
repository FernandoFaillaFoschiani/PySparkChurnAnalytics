{
 "cells": [
  {
   "cell_type": "code",
   "execution_count": 1,
   "metadata": {},
   "outputs": [],
   "source": [
    "# Importando todos os componentes da biblioteca spark\n",
    "\n",
    "import pyspark"
   ]
  },
  {
   "cell_type": "code",
   "execution_count": 2,
   "metadata": {},
   "outputs": [],
   "source": [
    "#Lendo os arquivos csv com o comando textFile(), e utilizando u zipWithIndex() que junta uma string do texto de cada linha do csv\n",
    "#vinculada a uma tupla onde a segunda posição representa um indice\n",
    "RDDtreino = sc.textFile('projeto4_telecom_treino.csv').zipWithIndex()\n",
    "RDDteste = sc.textFile('projeto4_telecom_teste.csv').zipWithIndex()"
   ]
  },
  {
   "cell_type": "code",
   "execution_count": 3,
   "metadata": {},
   "outputs": [
    {
     "data": {
      "text/plain": [
       "[('\"\",\"state\",\"account_length\",\"area_code\",\"international_plan\",\"voice_mail_plan\",\"number_vmail_messages\",\"total_day_minutes\",\"total_day_calls\",\"total_day_charge\",\"total_eve_minutes\",\"total_eve_calls\",\"total_eve_charge\",\"total_night_minutes\",\"total_night_calls\",\"total_night_charge\",\"total_intl_minutes\",\"total_intl_calls\",\"total_intl_charge\",\"number_customer_service_calls\",\"churn\"',\n",
       "  0),\n",
       " ('\"1\",\"KS\",128,\"area_code_415\",\"no\",\"yes\",25,265.1,110,45.07,197.4,99,16.78,244.7,91,11.01,10,3,2.7,1,\"no\"',\n",
       "  1),\n",
       " ('\"2\",\"OH\",107,\"area_code_415\",\"no\",\"yes\",26,161.6,123,27.47,195.5,103,16.62,254.4,103,11.45,13.7,3,3.7,1,\"no\"',\n",
       "  2),\n",
       " ('\"3\",\"NJ\",137,\"area_code_415\",\"no\",\"no\",0,243.4,114,41.38,121.2,110,10.3,162.6,104,7.32,12.2,5,3.29,0,\"no\"',\n",
       "  3),\n",
       " ('\"4\",\"OH\",84,\"area_code_408\",\"yes\",\"no\",0,299.4,71,50.9,61.9,88,5.26,196.9,89,8.86,6.6,7,1.78,2,\"no\"',\n",
       "  4)]"
      ]
     },
     "execution_count": 3,
     "metadata": {},
     "output_type": "execute_result"
    }
   ],
   "source": [
    "#Visualizando o resultado inicial, onde temos uma \"lista\" (RDD) de tuplas, onde o primeiro elemento de cada tupla é uma string\n",
    "#referente a toda a linha do csv, e o segundo elemento o índice]\n",
    "\n",
    "RDDtreino.take(5)"
   ]
  },
  {
   "cell_type": "code",
   "execution_count": 4,
   "metadata": {},
   "outputs": [],
   "source": [
    "#Primeiramente separando os nomes das colunas, que após utilizado o metodo zipWithIndex, se encontra na tupla onde o elemento [1]\n",
    "#, o indice, é igual a zero\n",
    "\n",
    "#Após isso é utilizado o metodo split() para separar o valor unico que era a string, em diversos elementos dentro de uma lista\n",
    "#separa por virgulas\n",
    "\n",
    "\n",
    "#O filter percorre cada uma da tuplas, checando \n",
    "columns = RDDtreino.filter(lambda x: x[1] == 0).map(lambda x: x[0].replace('\\\"','')).map(lambda x: x.split(',')).collect()"
   ]
  },
  {
   "cell_type": "code",
   "execution_count": 5,
   "metadata": {},
   "outputs": [],
   "source": [
    "columns = columns[0]"
   ]
  },
  {
   "cell_type": "code",
   "execution_count": 6,
   "metadata": {},
   "outputs": [],
   "source": [
    "#De forma análoga ao que foi feito com as colunas, foram filtradas todas as tuplas na lista (RDD) que são maiores que zero\n",
    "#e realizada a divisao também por virgulas\n",
    "data = RDDtreino.filter(lambda x: x[1] > 0).map(lambda x: x[0].replace('\\\"', '')).map(lambda x: x.split(\",\"))"
   ]
  },
  {
   "cell_type": "code",
   "execution_count": 7,
   "metadata": {},
   "outputs": [
    {
     "name": "stderr",
     "output_type": "stream",
     "text": [
      "D:\\Anaconda3\\lib\\site-packages\\pandas\\compat\\_optional.py:138: UserWarning: Pandas requires version '2.7.0' or newer of 'numexpr' (version '2.6.9' currently installed).\n",
      "  warnings.warn(msg, UserWarning)\n"
     ]
    }
   ],
   "source": [
    "data = data.map(lambda x: (x)).toDF(schema = columns)"
   ]
  },
  {
   "cell_type": "code",
   "execution_count": 8,
   "metadata": {},
   "outputs": [
    {
     "name": "stdout",
     "output_type": "stream",
     "text": [
      "+---+-----+--------------+-------------+------------------+---------------+---------------------+-----------------+---------------+----------------+-----------------+---------------+----------------+-------------------+-----------------+------------------+------------------+----------------+-----------------+-----------------------------+-----+\n",
      "|   |state|account_length|    area_code|international_plan|voice_mail_plan|number_vmail_messages|total_day_minutes|total_day_calls|total_day_charge|total_eve_minutes|total_eve_calls|total_eve_charge|total_night_minutes|total_night_calls|total_night_charge|total_intl_minutes|total_intl_calls|total_intl_charge|number_customer_service_calls|churn|\n",
      "+---+-----+--------------+-------------+------------------+---------------+---------------------+-----------------+---------------+----------------+-----------------+---------------+----------------+-------------------+-----------------+------------------+------------------+----------------+-----------------+-----------------------------+-----+\n",
      "|  1|   KS|           128|area_code_415|                no|            yes|                   25|            265.1|            110|           45.07|            197.4|             99|           16.78|              244.7|               91|             11.01|                10|               3|              2.7|                            1|   no|\n",
      "|  2|   OH|           107|area_code_415|                no|            yes|                   26|            161.6|            123|           27.47|            195.5|            103|           16.62|              254.4|              103|             11.45|              13.7|               3|              3.7|                            1|   no|\n",
      "|  3|   NJ|           137|area_code_415|                no|             no|                    0|            243.4|            114|           41.38|            121.2|            110|            10.3|              162.6|              104|              7.32|              12.2|               5|             3.29|                            0|   no|\n",
      "|  4|   OH|            84|area_code_408|               yes|             no|                    0|            299.4|             71|            50.9|             61.9|             88|            5.26|              196.9|               89|              8.86|               6.6|               7|             1.78|                            2|   no|\n",
      "|  5|   OK|            75|area_code_415|               yes|             no|                    0|            166.7|            113|           28.34|            148.3|            122|           12.61|              186.9|              121|              8.41|              10.1|               3|             2.73|                            3|   no|\n",
      "|  6|   AL|           118|area_code_510|               yes|             no|                    0|            223.4|             98|           37.98|            220.6|            101|           18.75|              203.9|              118|              9.18|               6.3|               6|              1.7|                            0|   no|\n",
      "|  7|   MA|           121|area_code_510|                no|            yes|                   24|            218.2|             88|           37.09|            348.5|            108|           29.62|              212.6|              118|              9.57|               7.5|               7|             2.03|                            3|   no|\n",
      "|  8|   MO|           147|area_code_415|               yes|             no|                    0|              157|             79|           26.69|            103.1|             94|            8.76|              211.8|               96|              9.53|               7.1|               6|             1.92|                            0|   no|\n",
      "|  9|   LA|           117|area_code_408|                no|             no|                    0|            184.5|             97|           31.37|            351.6|             80|           29.89|              215.8|               90|              9.71|               8.7|               4|             2.35|                            1|   no|\n",
      "| 10|   WV|           141|area_code_415|               yes|            yes|                   37|            258.6|             84|           43.96|              222|            111|           18.87|              326.4|               97|             14.69|              11.2|               5|             3.02|                            0|   no|\n",
      "| 11|   IN|            65|area_code_415|                no|             no|                    0|            129.1|            137|           21.95|            228.5|             83|           19.42|              208.8|              111|               9.4|              12.7|               6|             3.43|                            4|  yes|\n",
      "| 12|   RI|            74|area_code_415|                no|             no|                    0|            187.7|            127|           31.91|            163.4|            148|           13.89|                196|               94|              8.82|               9.1|               5|             2.46|                            0|   no|\n",
      "| 13|   IA|           168|area_code_408|                no|             no|                    0|            128.8|             96|            21.9|            104.9|             71|            8.92|              141.1|              128|              6.35|              11.2|               2|             3.02|                            1|   no|\n",
      "| 14|   MT|            95|area_code_510|                no|             no|                    0|            156.6|             88|           26.62|            247.6|             75|           21.05|              192.3|              115|              8.65|              12.3|               5|             3.32|                            3|   no|\n",
      "| 15|   IA|            62|area_code_415|                no|             no|                    0|            120.7|             70|           20.52|            307.2|             76|           26.11|                203|               99|              9.14|              13.1|               6|             3.54|                            4|   no|\n",
      "| 16|   NY|           161|area_code_415|                no|             no|                    0|            332.9|             67|           56.59|            317.8|             97|           27.01|              160.6|              128|              7.23|               5.4|               9|             1.46|                            4|  yes|\n",
      "| 17|   ID|            85|area_code_408|                no|            yes|                   27|            196.4|            139|           33.39|            280.9|             90|           23.88|               89.3|               75|              4.02|              13.8|               4|             3.73|                            1|   no|\n",
      "| 18|   VT|            93|area_code_510|                no|             no|                    0|            190.7|            114|           32.42|            218.2|            111|           18.55|              129.6|              121|              5.83|               8.1|               3|             2.19|                            3|   no|\n",
      "| 19|   VA|            76|area_code_510|                no|            yes|                   33|            189.7|             66|           32.25|            212.8|             65|           18.09|              165.7|              108|              7.46|                10|               5|              2.7|                            1|   no|\n",
      "| 20|   TX|            73|area_code_415|                no|             no|                    0|            224.4|             90|           38.15|            159.5|             88|           13.56|              192.8|               74|              8.68|                13|               2|             3.51|                            1|   no|\n",
      "+---+-----+--------------+-------------+------------------+---------------+---------------------+-----------------+---------------+----------------+-----------------+---------------+----------------+-------------------+-----------------+------------------+------------------+----------------+-----------------+-----------------------------+-----+\n",
      "only showing top 20 rows\n",
      "\n"
     ]
    }
   ],
   "source": [
    "data.show()"
   ]
  },
  {
   "cell_type": "code",
   "execution_count": 9,
   "metadata": {},
   "outputs": [
    {
     "name": "stdout",
     "output_type": "stream",
     "text": [
      "root\n",
      " |-- : string (nullable = true)\n",
      " |-- state: string (nullable = true)\n",
      " |-- account_length: string (nullable = true)\n",
      " |-- area_code: string (nullable = true)\n",
      " |-- international_plan: string (nullable = true)\n",
      " |-- voice_mail_plan: string (nullable = true)\n",
      " |-- number_vmail_messages: string (nullable = true)\n",
      " |-- total_day_minutes: string (nullable = true)\n",
      " |-- total_day_calls: string (nullable = true)\n",
      " |-- total_day_charge: string (nullable = true)\n",
      " |-- total_eve_minutes: string (nullable = true)\n",
      " |-- total_eve_calls: string (nullable = true)\n",
      " |-- total_eve_charge: string (nullable = true)\n",
      " |-- total_night_minutes: string (nullable = true)\n",
      " |-- total_night_calls: string (nullable = true)\n",
      " |-- total_night_charge: string (nullable = true)\n",
      " |-- total_intl_minutes: string (nullable = true)\n",
      " |-- total_intl_calls: string (nullable = true)\n",
      " |-- total_intl_charge: string (nullable = true)\n",
      " |-- number_customer_service_calls: string (nullable = true)\n",
      " |-- churn: string (nullable = true)\n",
      "\n"
     ]
    }
   ],
   "source": [
    "#Analisando o tipo de dados que contém em cada coluna\n",
    "\n",
    "data.printSchema()"
   ]
  },
  {
   "cell_type": "code",
   "execution_count": 22,
   "metadata": {},
   "outputs": [],
   "source": [
    "from pyspark.sql.functions import col \n",
    "from pyspark.sql.types import StringType,BooleanType,DateType, FloatType\n",
    "\n",
    "#looping que percorre todas as colunas do dataframe, e quando encontrados os nomes numbers e total, a coluna é transformada\n",
    "#de string para booleano, para alterar colunas é utilizado o método withColumn, e para muda o tipo de dados o método cast\n",
    "\n",
    "for i in data.columns:\n",
    "    if \"number\" in i:\n",
    "        data = data.withColumn(i, col(i).cast(FloatType()))\n",
    "    elif \"total\" in i:\n",
    "        data = data.withColumn(i, col(i).cast(FloatType()))\n",
    "    elif \"length\" in i:\n",
    "        data = data.withColumn(i, col(i).cast(FloatType()))"
   ]
  },
  {
   "cell_type": "code",
   "execution_count": 23,
   "metadata": {
    "scrolled": true
   },
   "outputs": [
    {
     "name": "stdout",
     "output_type": "stream",
     "text": [
      "root\n",
      " |-- : string (nullable = true)\n",
      " |-- state: string (nullable = true)\n",
      " |-- account_length: float (nullable = true)\n",
      " |-- area_code: string (nullable = true)\n",
      " |-- international_plan: string (nullable = true)\n",
      " |-- voice_mail_plan: string (nullable = true)\n",
      " |-- number_vmail_messages: float (nullable = true)\n",
      " |-- total_day_minutes: float (nullable = true)\n",
      " |-- total_day_calls: float (nullable = true)\n",
      " |-- total_day_charge: float (nullable = true)\n",
      " |-- total_eve_minutes: float (nullable = true)\n",
      " |-- total_eve_calls: float (nullable = true)\n",
      " |-- total_eve_charge: float (nullable = true)\n",
      " |-- total_night_minutes: float (nullable = true)\n",
      " |-- total_night_calls: float (nullable = true)\n",
      " |-- total_night_charge: float (nullable = true)\n",
      " |-- total_intl_minutes: float (nullable = true)\n",
      " |-- total_intl_calls: float (nullable = true)\n",
      " |-- total_intl_charge: float (nullable = true)\n",
      " |-- number_customer_service_calls: float (nullable = true)\n",
      " |-- churn: string (nullable = true)\n",
      "\n"
     ]
    }
   ],
   "source": [
    "#Visualizando se as transformações foram realizadas de forma correta\n",
    "\n",
    "data.printSchema()"
   ]
  },
  {
   "cell_type": "code",
   "execution_count": 24,
   "metadata": {},
   "outputs": [],
   "source": [
    "#Criando uma função para lista as colunas de acordo com suas variáveis, para usar em um select\n",
    "\n",
    "def listVarByType(type):\n",
    "    booleanVars = []\n",
    "\n",
    "    for i in data.dtypes:\n",
    "        if i[1] == f\"{type}\":\n",
    "            booleanVars.append(i[0])\n",
    "    return booleanVars"
   ]
  },
  {
   "cell_type": "code",
   "execution_count": 25,
   "metadata": {},
   "outputs": [
    {
     "data": {
      "text/plain": [
       "['number_vmail_messages',\n",
       " 'total_day_minutes',\n",
       " 'total_day_calls',\n",
       " 'total_day_charge',\n",
       " 'total_eve_minutes',\n",
       " 'total_eve_calls',\n",
       " 'total_eve_charge',\n",
       " 'total_night_minutes',\n",
       " 'total_night_calls',\n",
       " 'total_night_charge',\n",
       " 'total_intl_minutes',\n",
       " 'total_intl_calls',\n",
       " 'total_intl_charge',\n",
       " 'number_customer_service_calls']"
      ]
     },
     "execution_count": 25,
     "metadata": {},
     "output_type": "execute_result"
    }
   ],
   "source": [
    "booleanVars"
   ]
  },
  {
   "cell_type": "code",
   "execution_count": 26,
   "metadata": {},
   "outputs": [
    {
     "name": "stdout",
     "output_type": "stream",
     "text": [
      "+---+-----+-------------+------------------+---------------+-----+\n",
      "|   |state|    area_code|international_plan|voice_mail_plan|churn|\n",
      "+---+-----+-------------+------------------+---------------+-----+\n",
      "|  1|   KS|area_code_415|                no|            yes|   no|\n",
      "|  2|   OH|area_code_415|                no|            yes|   no|\n",
      "|  3|   NJ|area_code_415|                no|             no|   no|\n",
      "|  4|   OH|area_code_408|               yes|             no|   no|\n",
      "|  5|   OK|area_code_415|               yes|             no|   no|\n",
      "|  6|   AL|area_code_510|               yes|             no|   no|\n",
      "|  7|   MA|area_code_510|                no|            yes|   no|\n",
      "|  8|   MO|area_code_415|               yes|             no|   no|\n",
      "|  9|   LA|area_code_408|                no|             no|   no|\n",
      "| 10|   WV|area_code_415|               yes|            yes|   no|\n",
      "| 11|   IN|area_code_415|                no|             no|  yes|\n",
      "| 12|   RI|area_code_415|                no|             no|   no|\n",
      "| 13|   IA|area_code_408|                no|             no|   no|\n",
      "| 14|   MT|area_code_510|                no|             no|   no|\n",
      "| 15|   IA|area_code_415|                no|             no|   no|\n",
      "| 16|   NY|area_code_415|                no|             no|  yes|\n",
      "| 17|   ID|area_code_408|                no|            yes|   no|\n",
      "| 18|   VT|area_code_510|                no|             no|   no|\n",
      "| 19|   VA|area_code_510|                no|            yes|   no|\n",
      "| 20|   TX|area_code_415|                no|             no|   no|\n",
      "+---+-----+-------------+------------------+---------------+-----+\n",
      "only showing top 20 rows\n",
      "\n"
     ]
    }
   ],
   "source": [
    "data.select(listVarByType('string')).show()"
   ]
  },
  {
   "cell_type": "code",
   "execution_count": 36,
   "metadata": {},
   "outputs": [
    {
     "name": "stdout",
     "output_type": "stream",
     "text": [
      "+-----+----------------------+\n",
      "|state|avg(total_day_minutes)|\n",
      "+-----+----------------------+\n",
      "|   AZ|     171.6046872138977|\n",
      "|   SC|     166.4416673342387|\n",
      "|   LA|    178.37647082758886|\n",
      "|   MN|    183.35476157778785|\n",
      "|   NJ|    196.22499982048484|\n",
      "|   DC|    171.37962934705945|\n",
      "|   OR|    176.24615434499887|\n",
      "|   VA|    177.24415608195517|\n",
      "|   RI|    167.47846128023588|\n",
      "|   WY|    180.17012903287812|\n",
      "|   KY|    173.75423793469446|\n",
      "|   NH|    177.32857264791215|\n",
      "|   MI|     180.5931496554858|\n",
      "|   NV|    176.42575651226622|\n",
      "|   WI|    179.13076868424048|\n",
      "|   ID|    178.61917814489914|\n",
      "|   CA|    183.56470691456514|\n",
      "|   NE|    177.46557423325837|\n",
      "|   CT|    175.14054107666016|\n",
      "|   MT|     174.0073528289795|\n",
      "+-----+----------------------+\n",
      "only showing top 20 rows\n",
      "\n"
     ]
    }
   ],
   "source": [
    "data.groupBy('state').avg('total_day_minutes').show()"
   ]
  },
  {
   "cell_type": "code",
   "execution_count": null,
   "metadata": {},
   "outputs": [],
   "source": []
  }
 ],
 "metadata": {
  "kernelspec": {
   "display_name": "Python 3",
   "language": "python",
   "name": "python3"
  },
  "language_info": {
   "codemirror_mode": {
    "name": "ipython",
    "version": 3
   },
   "file_extension": ".py",
   "mimetype": "text/x-python",
   "name": "python",
   "nbconvert_exporter": "python",
   "pygments_lexer": "ipython3",
   "version": "3.7.3"
  }
 },
 "nbformat": 4,
 "nbformat_minor": 2
}
